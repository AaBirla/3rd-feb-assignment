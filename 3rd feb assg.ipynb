{
 "cells": [
  {
   "cell_type": "markdown",
   "id": "b43eee83-22e6-43f5-84c7-261eb1d835bc",
   "metadata": {},
   "source": [
    "### Q1. Which keyword is used to create a function? Create a function to return a list of odd numbers in the range of 1 to 25."
   ]
  },
  {
   "cell_type": "code",
   "execution_count": null,
   "id": "376b6b92-e55f-4cd7-b2c7-f060c10505c0",
   "metadata": {},
   "outputs": [],
   "source": [
    "# 'def' keyword is used to create function in python"
   ]
  },
  {
   "cell_type": "code",
   "execution_count": 1,
   "id": "d4d31576-428c-43c5-acb1-8ae21b169e17",
   "metadata": {},
   "outputs": [
    {
     "name": "stdout",
     "output_type": "stream",
     "text": [
      "List of odd numbers from 1 to 25: [1, 3, 5, 7, 9, 11, 13, 15, 17, 19, 21, 23, 25]\n"
     ]
    }
   ],
   "source": [
    "def odd_numbers():\n",
    "    odd = []\n",
    "    for i in range(1, 26):\n",
    "        if i % 2 != 0:\n",
    "            odd.append(i)\n",
    "    return odd\n",
    "\n",
    "print(\"List of odd numbers from 1 to 25:\", odd_numbers())"
   ]
  },
  {
   "cell_type": "code",
   "execution_count": null,
   "id": "db5d5fd4-28a3-4e53-a643-a7c1abc066f5",
   "metadata": {},
   "outputs": [],
   "source": []
  },
  {
   "cell_type": "markdown",
   "id": "216c0d70-8bb2-4140-8020-6d6f98b39a96",
   "metadata": {},
   "source": [
    "### Q2. Why args and kwargs is used in some functions? Create a function each for args and *kwargs to demonstrate their use."
   ]
  },
  {
   "cell_type": "markdown",
   "id": "2419f31b-0487-4890-811e-0fde590080c1",
   "metadata": {},
   "source": [
    "-->args and *kwargs are used to pass a variable number of arguments to a function.\n",
    "\n",
    "-->args allows you to pass a variable number of non-keyword arguments to a function. The syntax allows you to pass a varying number of arguments to the function, which are then treated as a tuple"
   ]
  },
  {
   "cell_type": "code",
   "execution_count": 2,
   "id": "19771c36-48ef-4448-9450-20a3d147cedf",
   "metadata": {},
   "outputs": [
    {
     "name": "stdout",
     "output_type": "stream",
     "text": [
      "10\n"
     ]
    }
   ],
   "source": [
    "# example:\n",
    "\n",
    "def  summ(*args):\n",
    "    summ=0\n",
    "    for i in args:\n",
    "        summ+=i\n",
    "    return summ\n",
    "\n",
    "print(summ(1,2,3,4))"
   ]
  },
  {
   "cell_type": "markdown",
   "id": "c681dbda-5d6e-440f-a8d7-c5e9336a23e0",
   "metadata": {},
   "source": [
    "-->**kwargs allows you to pass a keyworded, variable-length argument list to a function.which are then treated as a dictionary."
   ]
  },
  {
   "cell_type": "code",
   "execution_count": 3,
   "id": "88d9a57d-8822-4256-96ae-0ed51a1609cc",
   "metadata": {},
   "outputs": [
    {
     "name": "stdout",
     "output_type": "stream",
     "text": [
      "first_name: Ashish\n",
      "last_name: Birla\n"
     ]
    }
   ],
   "source": [
    "def full_name(**kwargs):\n",
    "    for key, value in kwargs.items():\n",
    "        print(f\"{key}: {value}\")\n",
    "        \n",
    "full_name(first_name=\"Ashish\", last_name=\"Birla\")   "
   ]
  },
  {
   "cell_type": "code",
   "execution_count": null,
   "id": "c241f3c2-6c3d-411e-9e91-991c7ddf5350",
   "metadata": {},
   "outputs": [],
   "source": []
  },
  {
   "cell_type": "markdown",
   "id": "7bd7043a-58b7-40d7-ae27-8c13b6f40218",
   "metadata": {},
   "source": [
    "### Q3. What is an iterator in python? Name the method used to initialise the iterator object and the method used for iteration. Use these methods to print the first five elements of the given list [2, 4, 6, 8, 10, 12, 14, 16, 18, "
   ]
  },
  {
   "cell_type": "markdown",
   "id": "fc7e5b0f-85b9-4c43-95a8-d9f71df5ad7c",
   "metadata": {},
   "source": [
    "'''-->An iterator in Python is an object that implements the iterator protocol,\n",
    "      which consists of the methods __iter__ and __next__.'''"
   ]
  },
  {
   "cell_type": "markdown",
   "id": "7186004d-2c5a-4a84-abf6-7bf6b36d39de",
   "metadata": {},
   "source": [
    "'''The __iter__ method returns the iterator object, \n",
    "   and the __next__ method returns the next value from the iterator.\n",
    "   You can create an iterator from a list using the iter function,\n",
    "   which returns an iterator object.\n",
    "   You can then iterate over the elements of the iterator using a for loop or the "
   ]
  },
  {
   "cell_type": "code",
   "execution_count": 4,
   "id": "9232b643-8ecd-4ed1-949f-a7d27b1e57a5",
   "metadata": {},
   "outputs": [
    {
     "name": "stdout",
     "output_type": "stream",
     "text": [
      "2\n",
      "4\n",
      "6\n",
      "8\n",
      "10\n"
     ]
    }
   ],
   "source": [
    "list=[2, 4, 6, 8, 10, 12, 14, 16, 18, 20]\n",
    "ite_1 =iter(list)\n",
    "\n",
    "for i in range(5):\n",
    "    print(next(ite_1))"
   ]
  },
  {
   "cell_type": "code",
   "execution_count": null,
   "id": "952f8aa5-ddbd-471a-8f1a-2f040655cdd7",
   "metadata": {},
   "outputs": [],
   "source": []
  },
  {
   "cell_type": "markdown",
   "id": "e2ef1f43-a782-41d0-84f8-cd194fc0347d",
   "metadata": {},
   "source": [
    "### Q4. What is a generator function in python? Why yield keyword is used? Give an example of a generator function."
   ]
  },
  {
   "cell_type": "code",
   "execution_count": null,
   "id": "d0b845ce-c8c9-4b52-8dc2-182db6e062a1",
   "metadata": {},
   "outputs": [],
   "source": [
    "'''A generator function in Python is a special type of function that allows you to create a custom iterator.\n",
    "   Instead of using the return statement to return a value, a generator function uses the yield keyword. \n",
    "   The yield keyword returns a value and suspends the execution of the function, \n",
    "   saving its state so that it can be resumed later.'''"
   ]
  },
  {
   "cell_type": "code",
   "execution_count": 6,
   "id": "87685f50-c43b-4f1a-9d83-d565e7418a31",
   "metadata": {},
   "outputs": [
    {
     "name": "stdout",
     "output_type": "stream",
     "text": [
      "0, 1, 1, 2, 3, "
     ]
    }
   ],
   "source": [
    "# example of a generator function that generates the first n Fibonacci numbers\n",
    "def fibonacci(n):\n",
    "    a,b = 0,1\n",
    "    for i in range(n):\n",
    "        yield a\n",
    "        a, b = b, a + b\n",
    "\n",
    "for number in fibonacci(5):\n",
    "    print(number,end=\", \")"
   ]
  },
  {
   "cell_type": "code",
   "execution_count": null,
   "id": "53e4e9e5-18cd-4746-9adb-87bf8ff02810",
   "metadata": {},
   "outputs": [],
   "source": []
  },
  {
   "cell_type": "markdown",
   "id": "e2972585-2e9a-4a42-8e12-fd4eb737e444",
   "metadata": {},
   "source": [
    "### Q5. Create a generator function for prime numbers less than 1000. Use the next() method to print the first 20 prime numbers."
   ]
  },
  {
   "cell_type": "code",
   "execution_count": 7,
   "id": "93973879-0c28-49cb-a9de-a16ec52b69ca",
   "metadata": {},
   "outputs": [
    {
     "name": "stdout",
     "output_type": "stream",
     "text": [
      "2, 3, 5, 7, 11, 13, 17, 19, 23, 29, 31, 37, 41, 43, 47, 53, 59, 61, 67, 71, "
     ]
    }
   ],
   "source": [
    "def get_primes():\n",
    "    primes = []\n",
    "    for num in range(2, 1000):\n",
    "        for prime in primes:\n",
    "            if num%prime == 0:\n",
    "                break\n",
    "        else:\n",
    "            primes.append(num)\n",
    "            yield num\n",
    "\n",
    "prime_gen = get_primes()\n",
    "for i in range(20):\n",
    "    print(next(prime_gen),end=\", \")"
   ]
  },
  {
   "cell_type": "code",
   "execution_count": null,
   "id": "8fd20f50-0ecf-4656-83c8-3eeb8afa1e56",
   "metadata": {},
   "outputs": [],
   "source": []
  },
  {
   "cell_type": "markdown",
   "id": "8e6f2352-6482-4ea9-8d18-674fe666de72",
   "metadata": {},
   "source": [
    "### Q6. Write a python program to print the first 10 Fibonacci numbers using a while loop."
   ]
  },
  {
   "cell_type": "code",
   "execution_count": 8,
   "id": "fb4d03e1-cbb9-4dc6-88eb-9fd157a41e2a",
   "metadata": {},
   "outputs": [
    {
     "name": "stdout",
     "output_type": "stream",
     "text": [
      "0, 1, 1, 2, 3, 5, 8, 13, 21, 34, "
     ]
    }
   ],
   "source": [
    "def fibonacci(n):\n",
    "    a,b=0,1\n",
    "    list=[]\n",
    "    while n>0:\n",
    "        list.append(a)\n",
    "        \n",
    "        a,b=b,a+b\n",
    "        n=n-1\n",
    "        \n",
    "    return list\n",
    "\n",
    "for i in fibonacci(10):\n",
    "    print(i,end=\", \")"
   ]
  },
  {
   "cell_type": "code",
   "execution_count": null,
   "id": "851c9acb-68a5-45e5-922a-10f96f524cb0",
   "metadata": {},
   "outputs": [],
   "source": []
  },
  {
   "cell_type": "markdown",
   "id": "c806facf-9a14-46d6-bacb-74feebea1e36",
   "metadata": {},
   "source": [
    "### Q7. Write a List Comprehension to iterate through the given strin"
   ]
  },
  {
   "cell_type": "markdown",
   "id": "e3430d9a-2bc7-4d5c-a3e0-de97ecb2853a",
   "metadata": {},
   "source": [
    "Expected output: ['p', 'w', 's', 'k', 'i', 'l', 'l', 's']"
   ]
  },
  {
   "cell_type": "code",
   "execution_count": 9,
   "id": "10840b70-40f6-4034-94d9-19b66fd360f5",
   "metadata": {},
   "outputs": [
    {
     "name": "stdout",
     "output_type": "stream",
     "text": [
      "['p', 'w', 's', 'k', 'i', 'l', 'l', 's']\n"
     ]
    }
   ],
   "source": [
    "string='pwskills'\n",
    "print([i for i in string])"
   ]
  },
  {
   "cell_type": "code",
   "execution_count": null,
   "id": "61fc89d4-2600-4377-a32b-6e24460282f5",
   "metadata": {},
   "outputs": [],
   "source": [
    "\n"
   ]
  },
  {
   "cell_type": "markdown",
   "id": "e02b18eb-0625-45bc-8d77-a559b9628b73",
   "metadata": {},
   "source": [
    "### Q8. Write a python program to check whether a given number is Palindrome or not using a while loop."
   ]
  },
  {
   "cell_type": "code",
   "execution_count": 10,
   "id": "58929c52-aba1-43a4-88b1-041d9028f23a",
   "metadata": {},
   "outputs": [
    {
     "name": "stdin",
     "output_type": "stream",
     "text": [
      "Enter a number:  443\n"
     ]
    },
    {
     "name": "stdout",
     "output_type": "stream",
     "text": [
      "The number is NOT palindrome\n"
     ]
    }
   ],
   "source": [
    "def palindrome(n):\n",
    "    \n",
    "    temp=n\n",
    "    rev=0\n",
    "    \n",
    "    while temp>0:\n",
    "        rev=(rev*10)+(temp%10)\n",
    "        temp= temp//10\n",
    "    return n==rev\n",
    "\n",
    "num=int(input(\"Enter a number: \"))\n",
    "\n",
    "if palindrome(num):\n",
    "    print('The number is palindrome')\n",
    "\n",
    "else:\n",
    "    print('The number is NOT palindrome')\n",
    "    "
   ]
  },
  {
   "cell_type": "code",
   "execution_count": null,
   "id": "1be0d72b-c8ae-4eac-ae7c-e6ad75b1b57d",
   "metadata": {},
   "outputs": [],
   "source": []
  },
  {
   "cell_type": "markdown",
   "id": "e083939c-96e7-472d-806b-b94f85428be6",
   "metadata": {},
   "source": [
    "### Q9. Write a code to print odd numbers from 1 to 100 using list comprehension."
   ]
  },
  {
   "cell_type": "markdown",
   "id": "3e85f1c3-9e75-4f65-a140-a60d4fb2b8fb",
   "metadata": {},
   "source": [
    "Note: Use a list comprehension to create a list from 1 to 100 and use another List comprehension to filter out odd numbers"
   ]
  },
  {
   "cell_type": "code",
   "execution_count": 11,
   "id": "fceb2148-922a-4f31-857c-dfadeab8a965",
   "metadata": {},
   "outputs": [
    {
     "name": "stdout",
     "output_type": "stream",
     "text": [
      "[1, 2, 3, 4, 5, 6, 7, 8, 9, 10, 11, 12, 13, 14, 15, 16, 17, 18, 19, 20, 21, 22, 23, 24, 25, 26, 27, 28, 29, 30, 31, 32, 33, 34, 35, 36, 37, 38, 39, 40, 41, 42, 43, 44, 45, 46, 47, 48, 49, 50, 51, 52, 53, 54, 55, 56, 57, 58, 59, 60, 61, 62, 63, 64, 65, 66, 67, 68, 69, 70, 71, 72, 73, 74, 75, 76, 77, 78, 79, 80, 81, 82, 83, 84, 85, 86, 87, 88, 89, 90, 91, 92, 93, 94, 95, 96, 97, 98, 99, 100]"
     ]
    }
   ],
   "source": [
    "l1= [i for i in range(1,101)]\n",
    "print(l1,end=\"\")"
   ]
  },
  {
   "cell_type": "code",
   "execution_count": 12,
   "id": "9fecc0ef-fbbe-4d5a-8b61-302668ac83b3",
   "metadata": {},
   "outputs": [
    {
     "name": "stdout",
     "output_type": "stream",
     "text": [
      "[1, 3, 5, 7, 9, 11, 13, 15, 17, 19, 21, 23, 25, 27, 29, 31, 33, 35, 37, 39, 41, 43, 45, 47, 49, 51, 53, 55, 57, 59, 61, 63, 65, 67, 69, 71, 73, 75, 77, 79, 81, 83, 85, 87, 89, 91, 93, 95, 97, 99]"
     ]
    }
   ],
   "source": [
    "l2=[i for i in l1 if i%2 != 0]\n",
    "print(l2,end=\"\")"
   ]
  },
  {
   "cell_type": "code",
   "execution_count": null,
   "id": "a2590590-eae4-4ff6-9d3a-309beca9234d",
   "metadata": {},
   "outputs": [],
   "source": []
  }
 ],
 "metadata": {
  "kernelspec": {
   "display_name": "Python 3 (ipykernel)",
   "language": "python",
   "name": "python3"
  },
  "language_info": {
   "codemirror_mode": {
    "name": "ipython",
    "version": 3
   },
   "file_extension": ".py",
   "mimetype": "text/x-python",
   "name": "python",
   "nbconvert_exporter": "python",
   "pygments_lexer": "ipython3",
   "version": "3.10.8"
  }
 },
 "nbformat": 4,
 "nbformat_minor": 5
}
